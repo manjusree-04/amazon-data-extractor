{
 "cells": [
  {
   "cell_type": "code",
   "execution_count": 22,
   "metadata": {},
   "outputs": [],
   "source": [
    "from selenium import webdriver\n",
    "from selenium.webdriver.common.by import By"
   ]
  },
  {
   "cell_type": "code",
   "execution_count": 23,
   "metadata": {},
   "outputs": [],
   "source": [
    "dr=webdriver.Chrome()"
   ]
  },
  {
   "cell_type": "code",
   "execution_count": 24,
   "metadata": {},
   "outputs": [],
   "source": [
    "dr.get(\"https://youtube.com\")"
   ]
  },
  {
   "cell_type": "code",
   "execution_count": 25,
   "metadata": {},
   "outputs": [],
   "source": [
    "# for finding element use find_element function\n",
    "search = dr.find_element(By.XPATH,\"//input[@role='combobox']\")"
   ]
  },
  {
   "cell_type": "code",
   "execution_count": 26,
   "metadata": {},
   "outputs": [],
   "source": [
    "search.send_keys(\"mrbeast\")"
   ]
  },
  {
   "cell_type": "code",
   "execution_count": 27,
   "metadata": {},
   "outputs": [],
   "source": [
    "button = dr.find_element(By.XPATH,\"//button[@class='ytSearchboxComponentSearchButton ytSearchboxComponentSearchButtonDark']\")"
   ]
  },
  {
   "cell_type": "code",
   "execution_count": 28,
   "metadata": {},
   "outputs": [
    {
     "data": {
      "text/plain": [
       "<bound method WebElement.click of <selenium.webdriver.remote.webelement.WebElement (session=\"e999dbf51b9746cf1b34bf0bdc557242\", element=\"f.EA46D8A13A7FCFD374BAB7355BC1D71D.d.1A3D09A66D86627CC75C154C2C426EC9.e.15\")>>"
      ]
     },
     "execution_count": 28,
     "metadata": {},
     "output_type": "execute_result"
    }
   ],
   "source": [
    "button.click"
   ]
  },
  {
   "cell_type": "code",
   "execution_count": 30,
   "metadata": {},
   "outputs": [],
   "source": [
    "channel=dr.find_element(By.XPATH,\"//div[@id='avatar-section']//a[@class='channel-link yt-simple-endpoint style-scope ytd-channel-renderer']\")"
   ]
  },
  {
   "cell_type": "code",
   "execution_count": 31,
   "metadata": {},
   "outputs": [
    {
     "data": {
      "text/plain": [
       "<bound method WebElement.click of <selenium.webdriver.remote.webelement.WebElement (session=\"e999dbf51b9746cf1b34bf0bdc557242\", element=\"f.EA46D8A13A7FCFD374BAB7355BC1D71D.d.1A3D09A66D86627CC75C154C2C426EC9.e.44\")>>"
      ]
     },
     "execution_count": 31,
     "metadata": {},
     "output_type": "execute_result"
    }
   ],
   "source": [
    "channel.click"
   ]
  },
  {
   "cell_type": "code",
   "execution_count": 32,
   "metadata": {},
   "outputs": [],
   "source": [
    "data=dr.find_element(By.XPATH,\"//body[1]/ytd-app[1]/div[1]/ytd-page-manager[1]/ytd-browse[2]/ytd-two-column-browse-results-renderer[1]/div[1]/ytd-section-list-renderer[1]/div[2]/ytd-item-section-renderer[2]/div[3]/ytd-shelf-renderer[1]/div[1]\")"
   ]
  },
  {
   "cell_type": "code",
   "execution_count": 33,
   "metadata": {},
   "outputs": [
    {
     "name": "stdout",
     "output_type": "stream",
     "text": [
      "New Uploads\n",
      "Play all\n",
      "34:46\n",
      "Every Minute One Person Is Eliminated\n",
      "MrBeast\n",
      "58M views\n",
      "4 days ago\n",
      "CC\n",
      "15:31\n",
      "I Helped 2,000 People Walk Again\n",
      "MrBeast\n",
      "77M views\n",
      "2 weeks ago\n",
      "CC\n",
      "24:45\n",
      "2,000 People Fight For $5,000,000\n",
      "MrBeast\n",
      "154M views\n",
      "1 month ago\n",
      "CC\n",
      "22:45\n",
      "Beat Ronaldo, Win $1,000,000\n",
      "MrBeast\n",
      "206M views\n",
      "1 month ago\n",
      "CC\n"
     ]
    }
   ],
   "source": [
    "print(data.text)"
   ]
  },
  {
   "cell_type": "code",
   "execution_count": null,
   "metadata": {},
   "outputs": [],
   "source": []
  }
 ],
 "metadata": {
  "kernelspec": {
   "display_name": "Python 3",
   "language": "python",
   "name": "python3"
  },
  "language_info": {
   "codemirror_mode": {
    "name": "ipython",
    "version": 3
   },
   "file_extension": ".py",
   "mimetype": "text/x-python",
   "name": "python",
   "nbconvert_exporter": "python",
   "pygments_lexer": "ipython3",
   "version": "3.10.11"
  }
 },
 "nbformat": 4,
 "nbformat_minor": 2
}
